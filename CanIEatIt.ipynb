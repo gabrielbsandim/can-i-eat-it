{
  "nbformat": 4,
  "nbformat_minor": 0,
  "metadata": {
    "colab": {
      "provenance": [],
      "authorship_tag": "ABX9TyOh1H15d18phpkvPPtfFrtL",
      "include_colab_link": true
    },
    "kernelspec": {
      "name": "python3",
      "display_name": "Python 3"
    },
    "language_info": {
      "name": "python"
    }
  },
  "cells": [
    {
      "cell_type": "markdown",
      "metadata": {
        "id": "view-in-github",
        "colab_type": "text"
      },
      "source": [
        "<a href=\"https://colab.research.google.com/github/gabrielbsandim/can-i-eat-it/blob/main/CanIEatIt.ipynb\" target=\"_parent\"><img src=\"https://colab.research.google.com/assets/colab-badge.svg\" alt=\"Open In Colab\"/></a>"
      ]
    },
    {
      "cell_type": "code",
      "execution_count": 2,
      "metadata": {
        "colab": {
          "base_uri": "https://localhost:8080/"
        },
        "id": "52vofGigLkd1",
        "outputId": "de1cbe5f-09e7-4e78-e560-6a4277be1c2d"
      },
      "outputs": [
        {
          "output_type": "stream",
          "name": "stdout",
          "text": [
            "Mounted at /content/gdrive\n"
          ]
        }
      ],
      "source": [
        "from google.colab import drive\n",
        "\n",
        "drive.mount('/content/gdrive')"
      ]
    },
    {
      "cell_type": "code",
      "source": [
        "import google.generativeai as genai\n",
        "from google.colab import userdata\n",
        "\n",
        "genai.configure(api_key=userdata.get('API_KEY'))\n",
        "\n",
        "# Path to your images folder in Drive ('MyDrive' is root)\n",
        "defaultPath = '/content/gdrive/MyDrive/Foods/'\n",
        "\n",
        "generation_config = {\n",
        "  \"temperature\": 0.1,\n",
        "}\n",
        "\n",
        "system_instruction = \"\"\"aja como um grande nutricionista para conseguir ligar com ajudar as pessoas e suas restriçÕes de alimentos.\n",
        "\n",
        "vai receber uma mensagem com as informações pessoais (peso, tamanho e idade) e restrições alimentares como possíveis doenças como diabetes ou pressão alta, alergias e intolerâncias.\n",
        "\n",
        "na sequência, vai receber fotos de alimentos e deve retornar falando minimamente sobre o alimento e se ele é bom ou não para as restrições. Se não for bom, de alguma alternativa alimentar.\"\"\"\n",
        "\n",
        "model = genai.GenerativeModel(model_name=\"gemini-1.5-pro-latest\",\n",
        "                              generation_config=generation_config,\n",
        "                              system_instruction=system_instruction)\n",
        "\n",
        "chat = model.start_chat(history=[])\n",
        "\n",
        "print('---------------------')\n",
        "print('   Can I eat it?')\n",
        "print('---------------------\\n\\n')\n",
        "\n",
        "print('Descreva suas informações pessoais (peso, tamanho e idade) e suas restrições alimentares (alergias, doenças e intolerâncias).\\n')\n",
        "restrictions = input()\n",
        "\n",
        "chat.send_message(restrictions)\n",
        "fileName = input('\\n\\nNome da imagem: ')\n",
        "\n",
        "fullPath = defaultPath + fileName\n",
        "\n",
        "uploadResponse = genai.upload_file(fullPath)\n",
        "\n",
        "response = chat.send_message(uploadResponse)\n",
        "\n",
        "print('\\n')\n",
        "\n",
        "print(response.text)"
      ],
      "metadata": {
        "colab": {
          "base_uri": "https://localhost:8080/",
          "height": 312
        },
        "id": "NU3m5sHELveQ",
        "outputId": "0f123923-1cbc-4186-9f2d-21d7645f35fc"
      },
      "execution_count": 7,
      "outputs": [
        {
          "output_type": "stream",
          "name": "stdout",
          "text": [
            "---------------------\n",
            "   Can I eat it?\n",
            "---------------------\n",
            "\n",
            "\n",
            "Descreva suas informações pessoais (peso, tamanho e idade) e suas restrições alimentares (alergias, doenças e intolerâncias).\n",
            "\n",
            "Tenho 15 anos, 1,65m e 85kg. Não tenho nenhuma restrição.\n",
            "\n",
            "\n",
            "Nome da imagem: bolacha.jpg\n",
            "\n",
            "\n",
            "Ah, biscoito recheado! 😋  É gostoso, mas é bom evitar comer com muita frequência. Ele tem bastante açúcar e gordura, o que não é o ideal para uma alimentação saudável. \n",
            "\n",
            "Que tal experimentar outras opções? Frutas, iogurte natural com granola, ou até um mix de castanhas são alternativas mais nutritivas e que te darão mais energia! 😉👍 \n",
            "\n"
          ]
        }
      ]
    }
  ]
}